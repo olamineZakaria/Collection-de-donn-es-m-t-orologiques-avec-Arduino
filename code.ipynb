{
 "cells": [
  {
   "cell_type": "code",
   "execution_count": 2,
   "metadata": {},
   "outputs": [
    {
     "name": "stdout",
     "output_type": "stream",
     "text": [
      "Time: 2024-07-19 22:23:17, Humidity: 69.00, Temperature: 29.80\n",
      "Time: 2024-07-19 22:23:19, Humidity: 69.00, Temperature: 29.80\n",
      "Time: 2024-07-19 22:23:21, Humidity: 69.00, Temperature: 29.80\n",
      "Time: 2024-07-19 22:23:23, Humidity: 69.00, Temperature: 29.80\n",
      "Time: 2024-07-19 22:23:25, Humidity: 69.00, Temperature: 29.80\n",
      "Time: 2024-07-19 22:23:27, Humidity: 69.00, Temperature: 29.80\n",
      "Time: 2024-07-19 22:23:29, Humidity: 69.00, Temperature: 29.80\n",
      "Time: 2024-07-19 22:23:31, Humidity: 69.00, Temperature: 29.80\n",
      "Time: 2024-07-19 22:23:33, Humidity: 69.00, Temperature: 29.80\n",
      "Time: 2024-07-19 22:23:35, Humidity: 69.00, Temperature: 29.80\n",
      "Time: 2024-07-19 22:23:37, Humidity: 69.00, Temperature: 29.80\n",
      "Time: 2024-07-19 22:23:39, Humidity: 69.00, Temperature: 29.80\n",
      "Time: 2024-07-19 22:23:41, Humidity: 69.00, Temperature: 29.80\n",
      "Time: 2024-07-19 22:23:43, Humidity: 69.00, Temperature: 29.80\n",
      "Time: 2024-07-19 22:23:45, Humidity: 69.00, Temperature: 29.80\n",
      "Time: 2024-07-19 22:23:47, Humidity: 69.00, Temperature: 29.80\n",
      "Time: 2024-07-19 22:23:49, Humidity: 69.00, Temperature: 29.80\n",
      "Time: 2024-07-19 22:23:51, Humidity: 69.00, Temperature: 29.80\n",
      "Time: 2024-07-19 22:23:53, Humidity: 69.00, Temperature: 29.80\n",
      "Time: 2024-07-19 22:23:55, Humidity: 69.00, Temperature: 29.80\n",
      "Time: 2024-07-19 22:23:57, Humidity: 69.00, Temperature: 29.80\n",
      "Time: 2024-07-19 22:23:59, Humidity: 69.00, Temperature: 29.80\n",
      "Time: 2024-07-19 22:24:01, Humidity: 69.00, Temperature: 29.80\n",
      "Time: 2024-07-19 22:24:03, Humidity: 69.00, Temperature: 29.80\n",
      "Time: 2024-07-19 22:24:05, Humidity: 69.00, Temperature: 29.80\n",
      "Time: 2024-07-19 22:24:07, Humidity: 69.00, Temperature: 29.80\n",
      "Time: 2024-07-19 22:24:09, Humidity: 69.00, Temperature: 29.80\n",
      "Time: 2024-07-19 22:24:11, Humidity: 69.00, Temperature: 29.80\n",
      "Time: 2024-07-19 22:24:13, Humidity: 69.00, Temperature: 29.80\n",
      "Time: 2024-07-19 22:24:16, Humidity: 69.00, Temperature: 29.80\n",
      "Time: 2024-07-19 22:24:18, Humidity: 69.00, Temperature: 29.80\n",
      "Time: 2024-07-19 22:24:20, Humidity: 69.00, Temperature: 29.80\n",
      "Time: 2024-07-19 22:24:22, Humidity: 69.00, Temperature: 29.80\n",
      "Time: 2024-07-19 22:24:24, Humidity: 69.00, Temperature: 29.80\n",
      "Time: 2024-07-19 22:24:26, Humidity: 69.00, Temperature: 29.80\n",
      "Time: 2024-07-19 22:24:28, Humidity: 69.00, Temperature: 29.80\n",
      "Time: 2024-07-19 22:24:30, Humidity: 69.00, Temperature: 29.80\n",
      "Time: 2024-07-19 22:24:32, Humidity: 69.00, Temperature: 29.80\n",
      "Time: 2024-07-19 22:24:34, Humidity: 69.00, Temperature: 29.80\n",
      "Time: 2024-07-19 22:24:36, Humidity: 69.00, Temperature: 29.80\n",
      "Time: 2024-07-19 22:24:38, Humidity: 69.00, Temperature: 29.80\n",
      "Time: 2024-07-19 22:24:40, Humidity: 69.00, Temperature: 29.80\n",
      "Time: 2024-07-19 22:24:42, Humidity: 69.00, Temperature: 29.80\n",
      "Time: 2024-07-19 22:24:44, Humidity: 69.00, Temperature: 29.80\n",
      "Time: 2024-07-19 22:24:46, Humidity: 69.00, Temperature: 29.80\n",
      "Time: 2024-07-19 22:24:48, Humidity: 69.00, Temperature: 29.80\n",
      "Time: 2024-07-19 22:24:50, Humidity: 69.00, Temperature: 29.80\n",
      "Time: 2024-07-19 22:24:52, Humidity: 69.00, Temperature: 29.80\n",
      "Time: 2024-07-19 22:24:54, Humidity: 69.00, Temperature: 29.80\n"
     ]
    },
    {
     "ename": "KeyboardInterrupt",
     "evalue": "",
     "output_type": "error",
     "traceback": [
      "\u001b[1;31m---------------------------------------------------------------------------\u001b[0m",
      "\u001b[1;31mKeyboardInterrupt\u001b[0m                         Traceback (most recent call last)",
      "Cell \u001b[1;32mIn[2], line 16\u001b[0m\n\u001b[0;32m     13\u001b[0m writer\u001b[38;5;241m.\u001b[39mwriteheader()\n\u001b[0;32m     15\u001b[0m \u001b[38;5;28;01mwhile\u001b[39;00m \u001b[38;5;28;01mTrue\u001b[39;00m:\n\u001b[1;32m---> 16\u001b[0m     \u001b[38;5;28;01mif\u001b[39;00m \u001b[43mser\u001b[49m\u001b[38;5;241;43m.\u001b[39;49m\u001b[43min_waiting\u001b[49m \u001b[38;5;241m>\u001b[39m \u001b[38;5;241m0\u001b[39m:\n\u001b[0;32m     17\u001b[0m         line \u001b[38;5;241m=\u001b[39m ser\u001b[38;5;241m.\u001b[39mreadline()\u001b[38;5;241m.\u001b[39mdecode(\u001b[38;5;124m'\u001b[39m\u001b[38;5;124mutf-8\u001b[39m\u001b[38;5;124m'\u001b[39m)\u001b[38;5;241m.\u001b[39mrstrip()\n\u001b[0;32m     18\u001b[0m         data \u001b[38;5;241m=\u001b[39m line\u001b[38;5;241m.\u001b[39msplit(\u001b[38;5;124m'\u001b[39m\u001b[38;5;124m,\u001b[39m\u001b[38;5;124m'\u001b[39m)\n",
      "File \u001b[1;32mc:\\Users\\pc\\AppData\\Local\\Programs\\Python\\Python312\\Lib\\site-packages\\serial\\serialwin32.py:258\u001b[0m, in \u001b[0;36mSerial.in_waiting\u001b[1;34m(self)\u001b[0m\n\u001b[0;32m    256\u001b[0m flags \u001b[38;5;241m=\u001b[39m win32\u001b[38;5;241m.\u001b[39mDWORD()\n\u001b[0;32m    257\u001b[0m comstat \u001b[38;5;241m=\u001b[39m win32\u001b[38;5;241m.\u001b[39mCOMSTAT()\n\u001b[1;32m--> 258\u001b[0m \u001b[38;5;28;01mif\u001b[39;00m \u001b[38;5;129;01mnot\u001b[39;00m \u001b[43mwin32\u001b[49m\u001b[38;5;241;43m.\u001b[39;49m\u001b[43mClearCommError\u001b[49m\u001b[43m(\u001b[49m\u001b[38;5;28;43mself\u001b[39;49m\u001b[38;5;241;43m.\u001b[39;49m\u001b[43m_port_handle\u001b[49m\u001b[43m,\u001b[49m\u001b[43m \u001b[49m\u001b[43mctypes\u001b[49m\u001b[38;5;241;43m.\u001b[39;49m\u001b[43mbyref\u001b[49m\u001b[43m(\u001b[49m\u001b[43mflags\u001b[49m\u001b[43m)\u001b[49m\u001b[43m,\u001b[49m\u001b[43m \u001b[49m\u001b[43mctypes\u001b[49m\u001b[38;5;241;43m.\u001b[39;49m\u001b[43mbyref\u001b[49m\u001b[43m(\u001b[49m\u001b[43mcomstat\u001b[49m\u001b[43m)\u001b[49m\u001b[43m)\u001b[49m:\n\u001b[0;32m    259\u001b[0m     \u001b[38;5;28;01mraise\u001b[39;00m SerialException(\u001b[38;5;124m\"\u001b[39m\u001b[38;5;124mClearCommError failed (\u001b[39m\u001b[38;5;132;01m{!r}\u001b[39;00m\u001b[38;5;124m)\u001b[39m\u001b[38;5;124m\"\u001b[39m\u001b[38;5;241m.\u001b[39mformat(ctypes\u001b[38;5;241m.\u001b[39mWinError()))\n\u001b[0;32m    260\u001b[0m \u001b[38;5;28;01mreturn\u001b[39;00m comstat\u001b[38;5;241m.\u001b[39mcbInQue\n",
      "\u001b[1;31mKeyboardInterrupt\u001b[0m: "
     ]
    }
   ],
   "source": [
    "import serial\n",
    "import csv\n",
    "from datetime import datetime\n",
    "\n",
    "ser = serial.Serial('COM10', 9600, timeout=1)\n",
    "ser.flush()\n",
    "\n",
    "with open('dht_data.csv', 'w', newline='') as csvfile:\n",
    "    fieldnames = ['Time', 'Humidity', 'Temperature', 'Timestamp']\n",
    "    writer = csv.DictWriter(csvfile, fieldnames=fieldnames)\n",
    "    writer.writeheader()\n",
    "\n",
    "    while True:\n",
    "        if ser.in_waiting > 0:\n",
    "            line = ser.readline().decode('utf-8').rstrip()\n",
    "            data = line.split(',')\n",
    "\n",
    "            if len(data) == 3:\n",
    "                humidity = data[0]\n",
    "                temperature = data[1]\n",
    "                timestamp = data[2]\n",
    "                current_time = datetime.now().strftime(\"%Y-%m-%d %H:%M:%S\")\n",
    "                print(f\"Time: {current_time}, Humidity: {humidity}, Temperature: {temperature}\")\n",
    "                writer.writerow({'Time': current_time, 'Humidity': humidity, 'Temperature': temperature, 'Timestamp': timestamp})\n"
   ]
  },
  {
   "cell_type": "code",
   "execution_count": null,
   "metadata": {},
   "outputs": [],
   "source": []
  }
 ],
 "metadata": {
  "kernelspec": {
   "display_name": "Python 3",
   "language": "python",
   "name": "python3"
  },
  "language_info": {
   "codemirror_mode": {
    "name": "ipython",
    "version": 3
   },
   "file_extension": ".py",
   "mimetype": "text/x-python",
   "name": "python",
   "nbconvert_exporter": "python",
   "pygments_lexer": "ipython3",
   "version": "3.12.3"
  }
 },
 "nbformat": 4,
 "nbformat_minor": 2
}
